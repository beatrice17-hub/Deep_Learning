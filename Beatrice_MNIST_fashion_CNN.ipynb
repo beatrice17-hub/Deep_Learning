{
  "nbformat": 4,
  "nbformat_minor": 0,
  "metadata": {
    "colab": {
      "name": "Beatrice - MNIST_fashion_CNN.ipynb",
      "provenance": [],
      "collapsed_sections": [],
      "include_colab_link": true
    },
    "kernelspec": {
      "name": "python3",
      "display_name": "Python 3"
    },
    "language_info": {
      "name": "python"
    },
    "accelerator": "GPU"
  },
  "cells": [
    {
      "cell_type": "markdown",
      "metadata": {
        "id": "view-in-github",
        "colab_type": "text"
      },
      "source": [
        "<a href=\"https://colab.research.google.com/github/beatrice17-hub/Deep_Learning/blob/main/Beatrice_MNIST_fashion_CNN.ipynb\" target=\"_parent\"><img src=\"https://colab.research.google.com/assets/colab-badge.svg\" alt=\"Open In Colab\"/></a>"
      ]
    },
    {
      "cell_type": "code",
      "metadata": {
        "colab": {
          "base_uri": "https://localhost:8080/",
          "height": 404
        },
        "id": "4Zs3IrSoAMFS",
        "outputId": "10386e92-ce36-4519-f559-a0fa4a6ed777"
      },
      "source": [
        "# image recognition menggunakan convolutional neural network\n",
        "import tensorflow as tf\n",
        "import matplotlib.pyplot as plt\n",
        "from keras.models import Sequential\n",
        "from keras.layers.convolutional import Conv2D\n",
        "from keras.layers.convolutional import AveragePooling2D #new\n",
        "from tensorflow.keras.layers import BatchNormalization #new\n",
        "from keras.layers.core import Activation\n",
        "from keras.layers.core import Flatten\n",
        "from keras.layers.core import Dense\n",
        "from keras.optimizers import Adam\n",
        "\n",
        "\n",
        "fashion_mnist=tf.keras.datasets.fashion_mnist\n",
        "(train_X,train_y),(test_X,test_y)=fashion_mnist.load_data()\n",
        "# from collections import Counter\n",
        "print(\"Jumlah Class\",len(set(train_y)))\n",
        "print(\"Nama Class setelah di encoding\",set(train_y))\n",
        "          \n",
        "print(\"Jumlah data train\",len(train_y))\n",
        "print(train_y)\n",
        "          \n",
        "print(\"Jumlah data test\",len(test_y))\n",
        "print(test_y)\n",
        "\n",
        "print(len(train_X[-1]))\n",
        "plt.imshow(train_X[-1])"
      ],
      "execution_count": null,
      "outputs": [
        {
          "output_type": "stream",
          "text": [
            "Jumlah Class 10\n",
            "Nama Class setelah di encoding {0, 1, 2, 3, 4, 5, 6, 7, 8, 9}\n",
            "Jumlah data train 60000\n",
            "[9 0 0 ... 3 0 5]\n",
            "Jumlah data test 10000\n",
            "[9 2 1 ... 8 1 5]\n",
            "28\n"
          ],
          "name": "stdout"
        },
        {
          "output_type": "execute_result",
          "data": {
            "text/plain": [
              "<matplotlib.image.AxesImage at 0x7f84a60c4050>"
            ]
          },
          "metadata": {
            "tags": []
          },
          "execution_count": 11
        },
        {
          "output_type": "display_data",
          "data": {
            "image/png": "[encoded data removed]",
            "text/plain": [
              "<Figure size 432x288 with 1 Axes>"
            ]
          },
          "metadata": {
            "tags": [],
            "needs_background": "light"
          }
        }
      ]
    },
    {
      "cell_type": "code",
      "metadata": {
        "colab": {
          "base_uri": "https://localhost:8080/"
        },
        "id": "6SqbusRlASfW",
        "outputId": "1b13db27-35ac-48b9-ccd7-271e6981532c"
      },
      "source": [
        "\n",
        "train_label=tf.keras.utils.to_categorical(train_y,num_classes=10)\n",
        "test_label=tf.keras.utils.to_categorical(test_y,num_classes=10)\n",
        "print(train_label)\n",
        "\n",
        "train_data=tf.expand_dims(train_X,-1)\n",
        "test_data=tf.expand_dims(test_X,-1)"
      ],
      "execution_count": null,
      "outputs": [
        {
          "output_type": "stream",
          "text": [
            "[[0. 0. 0. ... 0. 0. 1.]\n",
            " [1. 0. 0. ... 0. 0. 0.]\n",
            " [1. 0. 0. ... 0. 0. 0.]\n",
            " ...\n",
            " [0. 0. 0. ... 0. 0. 0.]\n",
            " [1. 0. 0. ... 0. 0. 0.]\n",
            " [0. 0. 0. ... 0. 0. 0.]]\n"
          ],
          "name": "stdout"
        }
      ]
    },
    {
      "cell_type": "code",
      "metadata": {
        "id": "Nw85hPuUAbL_"
      },
      "source": [
        "train_input=tf.data.Dataset.from_tensor_slices((train_data,train_label)).batch(50)\n",
        "test_input=tf.data.Dataset.from_tensor_slices((test_data,test_label)).batch(50)"
      ],
      "execution_count": null,
      "outputs": []
    },
    {
      "cell_type": "code",
      "metadata": {
        "id": "ur6GuA5dAdr5"
      },
      "source": [
        "input_data=tf.keras.layers.Input([28,28,1])"
      ],
      "execution_count": null,
      "outputs": []
    },
    {
      "cell_type": "code",
      "metadata": {
        "colab": {
          "base_uri": "https://localhost:8080/"
        },
        "id": "sZKoOjcgAFUP",
        "outputId": "068fc2ee-e66e-4ad5-e87d-c90173f84752"
      },
      "source": [
        "model = Sequential()\n",
        "model.add(Conv2D(8, (3, 3), padding=\"same\", input_shape=(28, 28, 1)))\n",
        "model.add(Activation(\"relu\"))\n",
        "model.add(BatchNormalization())\n",
        "model.add(AveragePooling2D(pool_size=(2, 2), strides=(1, 1)))\n",
        "\n",
        "model.add(Conv2D(16, (3, 3), padding=\"same\"))\n",
        "model.add(Activation(\"relu\"))\n",
        "model.add(BatchNormalization())\n",
        "model.add(AveragePooling2D(pool_size=(3, 3), strides=(2, 2)))\n",
        "\n",
        "model.add(Conv2D(32, (3, 3), padding=\"same\"))\n",
        "model.add(Activation(\"relu\"))\n",
        "model.add(BatchNormalization())\n",
        "model.add(AveragePooling2D(pool_size=(4, 4), strides=(3, 3)))\n",
        "\n",
        "model.add(Flatten())\n",
        "model.add(Dense(10))\n",
        "model.add(Activation(\"softmax\"))\n",
        "model.summary()\n",
        "opt = Adam(lr=1e-3, decay=1e-3 / 50)\n",
        "model.compile(loss=\"categorical_crossentropy\", optimizer=opt,\n",
        "\tmetrics=[\"accuracy\"])"
      ],
      "execution_count": null,
      "outputs": [
        {
          "output_type": "stream",
          "text": [
            "Model: \"sequential\"\n",
            "_________________________________________________________________\n",
            "Layer (type)                 Output Shape              Param #   \n",
            "=================================================================\n",
            "conv2d (Conv2D)              (None, 28, 28, 8)         80        \n",
            "_________________________________________________________________\n",
            "activation (Activation)      (None, 28, 28, 8)         0         \n",
            "_________________________________________________________________\n",
            "module_wrapper (ModuleWrappe (None, 28, 28, 8)         32        \n",
            "_________________________________________________________________\n",
            "average_pooling2d (AveragePo (None, 27, 27, 8)         0         \n",
            "_________________________________________________________________\n",
            "conv2d_1 (Conv2D)            (None, 27, 27, 16)        1168      \n",
            "_________________________________________________________________\n",
            "activation_1 (Activation)    (None, 27, 27, 16)        0         \n",
            "_________________________________________________________________\n",
            "module_wrapper_1 (ModuleWrap (None, 27, 27, 16)        64        \n",
            "_________________________________________________________________\n",
            "average_pooling2d_1 (Average (None, 13, 13, 16)        0         \n",
            "_________________________________________________________________\n",
            "conv2d_2 (Conv2D)            (None, 13, 13, 32)        4640      \n",
            "_________________________________________________________________\n",
            "activation_2 (Activation)    (None, 13, 13, 32)        0         \n",
            "_________________________________________________________________\n",
            "module_wrapper_2 (ModuleWrap (None, 13, 13, 32)        128       \n",
            "_________________________________________________________________\n",
            "average_pooling2d_2 (Average (None, 4, 4, 32)          0         \n",
            "_________________________________________________________________\n",
            "flatten (Flatten)            (None, 512)               0         \n",
            "_________________________________________________________________\n",
            "dense (Dense)                (None, 10)                5130      \n",
            "_________________________________________________________________\n",
            "activation_3 (Activation)    (None, 10)                0         \n",
            "=================================================================\n",
            "Total params: 11,242\n",
            "Trainable params: 11,130\n",
            "Non-trainable params: 112\n",
            "_________________________________________________________________\n"
          ],
          "name": "stdout"
        },
        {
          "output_type": "stream",
          "text": [
            "/usr/local/lib/python3.7/dist-packages/tensorflow/python/keras/optimizer_v2/optimizer_v2.py:375: UserWarning: The `lr` argument is deprecated, use `learning_rate` instead.\n",
            "  \"The `lr` argument is deprecated, use `learning_rate` instead.\")\n"
          ],
          "name": "stderr"
        }
      ]
    },
    {
      "cell_type": "code",
      "metadata": {
        "colab": {
          "base_uri": "https://localhost:8080/"
        },
        "id": "VaxG7KbR_RW3",
        "outputId": "a5031a31-700c-4536-f2d5-49404fc4cf60"
      },
      "source": [
        "model.fit(train_input,epochs=10)\n",
        "model.evaluate(test_input)"
      ],
      "execution_count": null,
      "outputs": [
        {
          "output_type": "stream",
          "text": [
            "Epoch 1/10\n",
            "1200/1200 [==============================] - 19s 3ms/step - loss: 0.5839 - accuracy: 0.7920\n",
            "Epoch 2/10\n",
            "1200/1200 [==============================] - 4s 3ms/step - loss: 0.2936 - accuracy: 0.8939\n",
            "Epoch 3/10\n",
            "1200/1200 [==============================] - 4s 3ms/step - loss: 0.2572 - accuracy: 0.9071\n",
            "Epoch 4/10\n",
            "1200/1200 [==============================] - 4s 3ms/step - loss: 0.2387 - accuracy: 0.9136\n",
            "Epoch 5/10\n",
            "1200/1200 [==============================] - 4s 3ms/step - loss: 0.2258 - accuracy: 0.9169\n",
            "Epoch 6/10\n",
            "1200/1200 [==============================] - 4s 4ms/step - loss: 0.2155 - accuracy: 0.9209\n",
            "Epoch 7/10\n",
            "1200/1200 [==============================] - 4s 4ms/step - loss: 0.2063 - accuracy: 0.9248\n",
            "Epoch 8/10\n",
            "1200/1200 [==============================] - 4s 4ms/step - loss: 0.1984 - accuracy: 0.9266\n",
            "Epoch 9/10\n",
            "1200/1200 [==============================] - 4s 4ms/step - loss: 0.1923 - accuracy: 0.9287\n",
            "Epoch 10/10\n",
            "1200/1200 [==============================] - 4s 4ms/step - loss: 0.1868 - accuracy: 0.9313\n",
            "200/200 [==============================] - 1s 2ms/step - loss: 0.2378 - accuracy: 0.9161\n"
          ],
          "name": "stdout"
        },
        {
          "output_type": "execute_result",
          "data": {
            "text/plain": [
              "[0.23781552910804749, 0.916100025177002]"
            ]
          },
          "metadata": {
            "tags": []
          },
          "execution_count": 6
        }
      ]
    }
  ]
}